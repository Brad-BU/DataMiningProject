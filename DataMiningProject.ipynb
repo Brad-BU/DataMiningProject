{
  "nbformat": 4,
  "nbformat_minor": 0,
  "metadata": {
    "colab": {
      "provenance": [],
      "authorship_tag": "ABX9TyONurRGJF2vRWtXEV8UwW59",
      "include_colab_link": true
    },
    "kernelspec": {
      "name": "python3",
      "display_name": "Python 3"
    },
    "language_info": {
      "name": "python"
    }
  },
  "cells": [
    {
      "cell_type": "markdown",
      "metadata": {
        "id": "view-in-github",
        "colab_type": "text"
      },
      "source": [
        "<a href=\"https://colab.research.google.com/github/Brad-BU/DataMiningProject/blob/test/DataMiningProject.ipynb\" target=\"_parent\"><img src=\"https://colab.research.google.com/assets/colab-badge.svg\" alt=\"Open In Colab\"/></a>"
      ]
    },
    {
      "cell_type": "code",
      "source": [
        "!git clone https://github.com/Brad-BU/DataMiningProject.git"
      ],
      "metadata": {
        "colab": {
          "base_uri": "https://localhost:8080/"
        },
        "id": "-WaTpro1Tazp",
        "outputId": "cdc11a53-a2cb-44fb-898f-d581891aa318"
      },
      "execution_count": 3,
      "outputs": [
        {
          "output_type": "stream",
          "name": "stdout",
          "text": [
            "Cloning into 'DataMiningProject'...\n",
            "remote: Enumerating objects: 22, done.\u001b[K\n",
            "remote: Counting objects: 100% (22/22), done.\u001b[K\n",
            "remote: Compressing objects: 100% (20/20), done.\u001b[K\n",
            "remote: Total 22 (delta 6), reused 3 (delta 0), pack-reused 0\u001b[K\n",
            "Receiving objects: 100% (22/22), 8.90 MiB | 33.25 MiB/s, done.\n",
            "Resolving deltas: 100% (6/6), done.\n"
          ]
        }
      ]
    },
    {
      "cell_type": "code",
      "execution_count": 7,
      "metadata": {
        "colab": {
          "base_uri": "https://localhost:8080/"
        },
        "id": "gY8bGtW-Sgt4",
        "outputId": "f8dc3c1e-8c70-4e3b-c49a-63d25195b90a"
      },
      "outputs": [
        {
          "output_type": "stream",
          "name": "stdout",
          "text": [
            "/content/DataMiningProject\n",
            "Already up to date.\n"
          ]
        }
      ],
      "source": [
        "%cd /content/DataMiningProject/\n",
        "!git pull"
      ]
    },
    {
      "cell_type": "code",
      "source": [
        "!git checkout test"
      ],
      "metadata": {
        "colab": {
          "base_uri": "https://localhost:8080/"
        },
        "id": "IEifn41bTXT3",
        "outputId": "b8a6f40c-1a04-44d9-ad50-6bbe6e05d45b"
      },
      "execution_count": 8,
      "outputs": [
        {
          "output_type": "stream",
          "name": "stdout",
          "text": [
            "Branch 'test' set up to track remote branch 'test' from 'origin'.\n",
            "Switched to a new branch 'test'\n"
          ]
        }
      ]
    },
    {
      "cell_type": "code",
      "source": [
        "!git commit"
      ],
      "metadata": {
        "id": "Iamo9UeBUSpK"
      },
      "execution_count": null,
      "outputs": []
    }
  ]
}